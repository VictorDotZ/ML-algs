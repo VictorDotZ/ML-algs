{
 "cells": [
  {
   "cell_type": "markdown",
   "metadata": {},
   "source": [
    "### Алгоритмы интеллектуальной обработки больших объемов данных\n",
    "\n",
    "## Домашнее задание №3 - Дерево решений\n"
   ]
  },
  {
   "cell_type": "markdown",
   "metadata": {},
   "source": [
    "**Общая информация**\n",
    "\n",
    "**Срок сдачи:** 28 мая 2022, 08:30  \n",
    "**Штраф за опоздание:** по 1 баллу за 24 часа задержки.\n",
    "\n",
    "При отправлении ДЗ указывайте фамилию в названии файла Присылать ДЗ необходимо в виде ссылки на свой github репозиторий на почту ml1.sphere@mail.ru с указанием темы в следующем формате:\n",
    "[ML0221, Задание 3] Фамилия Имя.\n",
    "\n",
    "Используйте данный Ipython Notebook при оформлении домашнего задания.\n"
   ]
  },
  {
   "cell_type": "markdown",
   "metadata": {},
   "source": [
    "## Реализуем дерево решений (3 балла)\n"
   ]
  },
  {
   "cell_type": "markdown",
   "metadata": {},
   "source": [
    "Допишите недостающие части дерева решений. Ваша реализация дерева должна работать по точности не хуже DecisionTreeClassifier из sklearn.\n",
    "Внимание: если Вас не устраивает предложенная структура хранения дерева, Вы без потери баллов можете сделать свой класс DecisionTreeClassifier, в котором сами полностью воспроизведете алгоритм дерева решений. Обязательно в нем иметь только функции fit, predict\n"
   ]
  },
  {
   "cell_type": "code",
   "execution_count": 26,
   "metadata": {
    "collapsed": true,
    "jupyter": {
     "outputs_hidden": true
    }
   },
   "outputs": [],
   "source": [
    "import matplotlib.pyplot as plt\n",
    "import numpy as np\n",
    "import pandas as pd\n",
    "\n",
    "from sklearn.datasets import load_wine\n",
    "from sklearn.metrics import accuracy_score\n",
    "from sklearn.model_selection import (\n",
    "    StratifiedKFold,\n",
    "    train_test_split,\n",
    ")\n",
    "from sklearn.tree import DecisionTreeClassifier\n"
   ]
  },
  {
   "cell_type": "code",
   "execution_count": 2,
   "metadata": {
    "collapsed": true,
    "jupyter": {
     "outputs_hidden": true
    }
   },
   "outputs": [],
   "source": [
    "class MyDecisionTreeClassifier:\n",
    "    NON_LEAF_TYPE = 0\n",
    "    LEAF_TYPE = 1\n",
    "\n",
    "    def __init__(\n",
    "        self,\n",
    "        min_samples_split=2,\n",
    "        max_depth=None,\n",
    "        sufficient_share=1.0,\n",
    "        criterion=\"gini\",\n",
    "        max_features=None,\n",
    "    ):\n",
    "        self.tree = dict()\n",
    "        self.min_samples_split = min_samples_split\n",
    "        self.max_depth = max_depth\n",
    "        self.sufficient_share = sufficient_share\n",
    "        self.num_class = -1\n",
    "        self.feature_importances_ = None\n",
    "        if criterion == \"gini\":\n",
    "            self.G_function = self.__gini\n",
    "            self.impurity_measure = self.__gini_imp_measure\n",
    "        elif criterion == \"entropy\":\n",
    "            self.G_function = self.__entropy\n",
    "            self.impurity_measure = self.__entropy_imp_measure\n",
    "        elif criterion == \"misclass\":\n",
    "            self.G_function = self.__misclass\n",
    "            self.impurity_measure = self.__misclass_imp_measure\n",
    "        else:\n",
    "            print(\"invalid criterion name\")\n",
    "            raise\n",
    "\n",
    "        if max_features == \"sqrt\":\n",
    "            self.get_feature_ids = self.__get_feature_ids_sqrt\n",
    "        elif max_features == \"log2\":\n",
    "            self.get_feature_ids = self.__get_feature_ids_log2\n",
    "        elif max_features is None:\n",
    "            self.get_feature_ids = self.__get_feature_ids_N\n",
    "        else:\n",
    "            print(\"invalid max_features name\")\n",
    "            raise\n",
    "\n",
    "    # обозначим прирост информации IG как IG(x) = I(S) - (phi(x))\n",
    "    # логично, что влиять на S на текущем шаге мы уже не можем\n",
    "    # т.е. имеем const - phi(x), т.е. чтобы максимизировать прирост информации\n",
    "    # нужно минимизровать phi(x). В методах ниже считается как раз phi(x)\n",
    "    # (взвешенная сумма I(S_l) и I(S_r))\n",
    "    def __gini(self, l_c, l_s, r_c, r_s):\n",
    "        l_s = l_s.astype(float)\n",
    "        r_s = r_s.astype(float)\n",
    "        return 1 - np.sum(\n",
    "            l_c**2 / l_s.reshape(-1, 1) + r_c**2 / r_s.reshape(-1, 1), axis=1\n",
    "        ) / (l_s + r_s)\n",
    "\n",
    "    def __gini_imp_measure(self, p_c, p_s):\n",
    "        p_c = p_c.astype(float)\n",
    "        p_s = p_s.astype(float)\n",
    "        return 1 - np.sum((p_c / p_s) ** 2)\n",
    "\n",
    "    def __entropy(self, l_c, l_s, r_c, r_s):\n",
    "        return -np.sum(\n",
    "            l_c * np.log(l_c / l_s.reshape(-1, 1) + np.finfo(float).eps)\n",
    "            + r_c * np.log(r_c / r_s.reshape(-1, 1) + np.finfo(float).eps),\n",
    "            axis=1,\n",
    "        ) / (l_s + r_s)\n",
    "\n",
    "    def __entropy_imp_measure(self, p_c, p_s):\n",
    "        p_c = p_c.astype(float) + np.finfo(float).eps\n",
    "        p_s = p_s.astype(float) + np.finfo(float).eps\n",
    "        return -np.sum((p_c / p_s) * np.log(p_c / p_s))\n",
    "\n",
    "    def __misclass(self, l_c, l_s, r_c, r_s):\n",
    "        return 1 - (np.max(l_c, axis=1) + np.max(r_c, axis=1)) / (l_s + r_s)\n",
    "\n",
    "    def __misclass_imp_measure(self, p_c, p_s):\n",
    "        p_c = p_c.astype(float)\n",
    "        p_s = p_s.astype(float)\n",
    "        return 1 - np.max(p_c / p_s)\n",
    "\n",
    "    def __get_feature_ids_sqrt(self, n_feature):\n",
    "        feature_ids = np.asarray(range(n_feature))\n",
    "        np.random.shuffle(feature_ids)\n",
    "        return feature_ids[: np.sqrt(n_feature).astype(int)]\n",
    "\n",
    "    def __get_feature_ids_log2(self, n_feature):\n",
    "        feature_ids = np.asarray(range(n_feature))\n",
    "        np.random.shuffle(feature_ids)\n",
    "        return feature_ids[: np.log2(n_feature).astype(int)]\n",
    "\n",
    "    def __get_feature_ids_N(self, n_feature):\n",
    "        return np.arange(n_feature)\n",
    "\n",
    "    def __sort_samples(self, x, y):\n",
    "        sorted_idx = x.argsort()\n",
    "        return x[sorted_idx], y[sorted_idx]\n",
    "\n",
    "    def __div_samples(self, x, y, feature_id, threshold):\n",
    "        left_mask = x[:, feature_id] > threshold\n",
    "        right_mask = ~left_mask\n",
    "        return x[left_mask], x[right_mask], y[left_mask], y[right_mask]\n",
    "\n",
    "    def __find_threshold(self, x, y):\n",
    "        # \"...количественный признак сортируется по возрастанию...\"\n",
    "        x_sorted, y_sorted = self.__sort_samples(x, y)\n",
    "\n",
    "        # \"...проверяются только те пороги,\n",
    "        # при которых целевой признак меняет значение...\"\n",
    "        borders = np.where(y_sorted[1:] != y_sorted[:-1])[0] + 1\n",
    "\n",
    "        # шаблон говорит о распределении объектов классов по порогам\n",
    "        # (нужен чтобы разом посчитать G_function)\n",
    "        # сначала считаем количество объектов внутри бордеров\n",
    "        classes_in_a_row = borders - np.append(np.array([0]), borders[:-1])\n",
    "\n",
    "        template = np.zeros((borders.shape[0], self.num_class))\n",
    "\n",
    "        # непосредственно указываем какому классу принадлежат объекты внутри\n",
    "        template[np.arange(borders.shape[0]), y_sorted[borders - 1]] = 1\n",
    "\n",
    "        # указываем количество объектов класса, находящихся между бордерами\n",
    "        template *= classes_in_a_row.reshape(-1, 1)\n",
    "\n",
    "        # \"...для каждого порога строится дерево глубины 1...\"\n",
    "        l_c = np.cumsum(template, axis=0)\n",
    "        r_c = np.bincount(y_sorted, minlength=self.num_class) - l_c\n",
    "        l_s = np.sum(l_c, axis=1)\n",
    "        r_s = y_sorted.shape[0] - l_s\n",
    "\n",
    "        # \"...считается насколько снизилась энтропия\n",
    "        # (или неопределенность Джини)...\"\n",
    "        gs = self.G_function(l_c, l_s, r_c, r_s)\n",
    "\n",
    "        # \"...и выбираются только лучшие пороги,\n",
    "        # c которыми стоит сравнивать количественный признак.\"\n",
    "        idx = gs.argmin()\n",
    "        before_border = x_sorted[int(l_s[idx]) - 1]\n",
    "        after_border = x_sorted[int(l_s[idx])]\n",
    "        best_threshold = np.mean([before_border, after_border])\n",
    "        # © статья ODS по деревьям на хабре\n",
    "        return gs[idx], best_threshold\n",
    "\n",
    "    def __fit_node(self, x, y, node_id, depth):\n",
    "        if (\n",
    "            depth == self.max_depth\n",
    "            or x.shape[0] <= self.min_samples_split\n",
    "            or np.unique(y).shape[0] == 1\n",
    "        ):\n",
    "            self.tree[node_id] = (\n",
    "                self.__class__.LEAF_TYPE,\n",
    "                np.bincount(y).argmax(),\n",
    "                np.bincount(y).astype(float) / y.shape[0],\n",
    "            )\n",
    "            return\n",
    "\n",
    "        features_ids = self.get_feature_ids(x.shape[1])\n",
    "\n",
    "        # чтобы не было проблем с шейпами и можно было\n",
    "        # по argmin вытащить нужный id фичи\n",
    "        feature_threshold_pairs = np.zeros((2, x.shape[1])) + np.inf\n",
    "\n",
    "        feature_threshold_pairs[:, features_ids] = np.apply_along_axis(\n",
    "            self.__find_threshold, 0, x[:, features_ids], y\n",
    "        )\n",
    "\n",
    "        # нашли как будем делить\n",
    "        best_split_feature_id = np.argmin(feature_threshold_pairs[0, :])\n",
    "        best_split_feature_threshold = feature_threshold_pairs[1, best_split_feature_id]\n",
    "        # поделили\n",
    "        x_l, x_r, y_l, y_r = self.__div_samples(\n",
    "            x, y, best_split_feature_id, best_split_feature_threshold\n",
    "        )\n",
    "\n",
    "        # по пути считаем feature importances\n",
    "        try:\n",
    "            self.feature_importances_[best_split_feature_id] += self.impurity_measure(\n",
    "                np.bincount(y), np.asarray(y.shape[0])\n",
    "            ) - (\n",
    "                float(y_l.shape[0])\n",
    "                * self.impurity_measure(np.bincount(y_l), np.asarray(y_l.shape[0]))\n",
    "                + float(y_r.shape[0])\n",
    "                * self.impurity_measure(np.bincount(y_r), np.asarray(y_r.shape[0]))\n",
    "            ) / float(\n",
    "                y.shape[0]\n",
    "            )\n",
    "        except Exception:\n",
    "            pass\n",
    "\n",
    "        # вдруг получилось так, что можно положить все в листовую ноду\n",
    "        if x_l.shape[0] == 0 or x_r.shape[0] == 0:\n",
    "            self.tree[node_id] = (\n",
    "                self.__class__.LEAF_TYPE,\n",
    "                np.bincount(y).argmax(),\n",
    "                np.bincount(y).astype(float) / y.shape[0],\n",
    "            )\n",
    "            return\n",
    "\n",
    "        # записали то как поделили\n",
    "        self.tree[node_id] = (\n",
    "            self.__class__.NON_LEAF_TYPE,\n",
    "            best_split_feature_id,\n",
    "            best_split_feature_threshold,\n",
    "        )\n",
    "\n",
    "        self.__fit_node(x_l, y_l, 2 * node_id + 1, depth + 1)\n",
    "        self.__fit_node(x_r, y_r, 2 * node_id + 2, depth + 1)\n",
    "\n",
    "        return\n",
    "\n",
    "    def fit(self, x, y):\n",
    "        self.feature_importances_ = np.zeros(x.shape[1])\n",
    "        self.num_class = np.unique(y).shape[0]\n",
    "        self.__fit_node(x, y, 0, 0)\n",
    "        self.feature_importances_ /= y.shape[0]\n",
    "\n",
    "    def __predict_class(self, x, node_id):\n",
    "        node = self.tree[node_id]\n",
    "        if node[0] == self.__class__.NON_LEAF_TYPE:\n",
    "            _, feature_id, threshold = node\n",
    "            if x[feature_id] > threshold:\n",
    "                return self.__predict_class(x, 2 * node_id + 1)\n",
    "            else:\n",
    "                return self.__predict_class(x, 2 * node_id + 2)\n",
    "        else:\n",
    "            return node[1]\n",
    "\n",
    "    def __predict_probs(self, x, node_id):\n",
    "        node = self.tree[node_id]\n",
    "        if node[0] == self.__class__.NON_LEAF_TYPE:\n",
    "            _, feature_id, threshold = node\n",
    "            if x[feature_id] > threshold:\n",
    "                return self.__predict_probs(x, 2 * node_id + 1)\n",
    "            else:\n",
    "                return self.__predict_probs(x, 2 * node_id + 2)\n",
    "        else:\n",
    "            return node[2]\n",
    "\n",
    "    def predict(self, X):\n",
    "        return np.array([self.__predict_class(x, 0) for x in X])\n",
    "\n",
    "    def predict_probs(self, X):\n",
    "        return np.array([self.__predict_probs(x, 0) for x in X])\n",
    "\n",
    "    def fit_predict(self, x_train, y_train, predicted_x):\n",
    "        self.fit(x_train, y_train)\n",
    "        return self.predict(predicted_x)\n"
   ]
  },
  {
   "cell_type": "code",
   "execution_count": 3,
   "metadata": {
    "collapsed": true,
    "jupyter": {
     "outputs_hidden": true
    }
   },
   "outputs": [],
   "source": [
    "my_clf = MyDecisionTreeClassifier(min_samples_split=2)\n",
    "clf = DecisionTreeClassifier(min_samples_split=2)\n"
   ]
  },
  {
   "cell_type": "code",
   "execution_count": 4,
   "metadata": {
    "collapsed": true,
    "jupyter": {
     "outputs_hidden": true
    }
   },
   "outputs": [],
   "source": [
    "wine = load_wine()\n",
    "X_train, X_test, y_train, y_test = train_test_split(\n",
    "    wine.data, wine.target, test_size=0.1, stratify=wine.target\n",
    ")\n"
   ]
  },
  {
   "cell_type": "code",
   "execution_count": 19,
   "metadata": {
    "collapsed": true,
    "jupyter": {
     "outputs_hidden": true
    }
   },
   "outputs": [
    {
     "data": {
      "text/plain": [
       "0.8888888888888888"
      ]
     },
     "execution_count": 19,
     "metadata": {},
     "output_type": "execute_result"
    }
   ],
   "source": [
    "accuracy_score(y_pred=clf.predict(X_test), y_true=y_test)\n"
   ]
  },
  {
   "cell_type": "code",
   "execution_count": 20,
   "metadata": {},
   "outputs": [
    {
     "data": {
      "text/plain": [
       "0.8888888888888888"
      ]
     },
     "execution_count": 20,
     "metadata": {},
     "output_type": "execute_result"
    }
   ],
   "source": [
    "accuracy_score(y_pred=my_clf.predict(X_test), y_true=y_test)\n",
    "# predict сделан после исполнения ячеек ниже, ибо там обучение\n"
   ]
  },
  {
   "cell_type": "markdown",
   "metadata": {},
   "source": [
    "## Ускоряем дерево решений (2 балла)\n",
    "\n",
    "Добиться скорости работы на fit не медленнее чем в 10 раз sklearn на данных wine.\n",
    "Для этого используем numpy.\n"
   ]
  },
  {
   "cell_type": "code",
   "execution_count": 17,
   "metadata": {
    "collapsed": true,
    "jupyter": {
     "outputs_hidden": true
    },
    "scrolled": true
   },
   "outputs": [
    {
     "name": "stdout",
     "output_type": "stream",
     "text": [
      "Wall time: 3 ms\n"
     ]
    },
    {
     "data": {
      "text/plain": [
       "DecisionTreeClassifier()"
      ]
     },
     "execution_count": 17,
     "metadata": {},
     "output_type": "execute_result"
    }
   ],
   "source": [
    "%time clf.fit(X_train, y_train)"
   ]
  },
  {
   "cell_type": "code",
   "execution_count": 18,
   "metadata": {
    "collapsed": true,
    "jupyter": {
     "outputs_hidden": true
    }
   },
   "outputs": [
    {
     "name": "stdout",
     "output_type": "stream",
     "text": [
      "Wall time: 30 ms\n"
     ]
    }
   ],
   "source": [
    "%time my_clf.fit(X_train, y_train)"
   ]
  },
  {
   "cell_type": "markdown",
   "metadata": {},
   "source": [
    "## Боевое применение (3 балла)\n",
    "\n",
    "На практике Вы познакомились с датасетом Speed Dating Data. В нем каждая пара в быстрых свиданиях характеризуется определенным набором признаков. Задача -- предсказать, произойдет ли матч пары (колонка match).\n",
    "\n",
    "Пример работы с датасетом можете найти в практике пункт 2\n",
    "https://github.com/VVVikulin/ml1.sphere/blob/master/2019-09/lecture_06/pract-trees.ipynb\n",
    "\n",
    "Данные и описания колонок лежат тут\n",
    "https://cloud.mail.ru/public/8nHV/p6J7wY1y1/speed-dating-experiment/\n"
   ]
  },
  {
   "cell_type": "markdown",
   "metadata": {},
   "source": [
    "Скачайте датасет, обработайте данные, как показано на семинаре или своим собственным способом. Обучите дерево классифкации. В качестве таргета возьмите колонку 'match'. Постарайтесь хорошо обработать признаки, чтобы выбить максимальную точность. Если точность будет близка к случайному гаданию, задание не будет защитано.\n"
   ]
  },
  {
   "cell_type": "code",
   "execution_count": 21,
   "metadata": {},
   "outputs": [],
   "source": [
    "def one_hot(data, feature):\n",
    "    for code in np.sort(data[feature].unique()):\n",
    "        data[feature + \"=\" + str(code)] = (data[feature] == code).astype(float)\n",
    "    data = data.drop([feature], axis=1)\n"
   ]
  },
  {
   "cell_type": "code",
   "execution_count": 22,
   "metadata": {
    "collapsed": true,
    "jupyter": {
     "outputs_hidden": true
    }
   },
   "outputs": [
    {
     "name": "stdout",
     "output_type": "stream",
     "text": [
      "df_pair.shape = (3999, 156)\n"
     ]
    }
   ],
   "source": [
    "df = pd.read_csv(\"./data/Speed Dating Data.csv\", encoding=\"latin1\")\n",
    "df = df.iloc[:, :97]\n",
    "\n",
    "df = df.drop([\"id\"], axis=1)\n",
    "df = df.drop([\"idg\"], axis=1)\n",
    "\n",
    "df.drop_duplicates(subset=[\"iid\"]).gender.value_counts()\n",
    "df = df.drop([\"condtn\"], axis=1)\n",
    "\n",
    "df = df.drop([\"round\"], axis=1)\n",
    "df = df.drop([\"position\", \"positin1\"], axis=1)\n",
    "df = df.drop([\"order\"], axis=1)\n",
    "df = df.drop([\"partner\"], axis=1)\n",
    "df = df.drop(\n",
    "    [\n",
    "        \"age_o\",\n",
    "        \"race_o\",\n",
    "        \"pf_o_att\",\n",
    "        \"pf_o_sin\",\n",
    "        \"pf_o_int\",\n",
    "        \"pf_o_fun\",\n",
    "        \"pf_o_amb\",\n",
    "        \"pf_o_sha\",\n",
    "        \"dec_o\",\n",
    "        \"attr_o\",\n",
    "        \"sinc_o\",\n",
    "        \"intel_o\",\n",
    "        \"fun_o\",\n",
    "        \"amb_o\",\n",
    "        \"shar_o\",\n",
    "        \"like_o\",\n",
    "        \"prob_o\",\n",
    "        \"met_o\",\n",
    "    ],\n",
    "    axis=1,\n",
    ")\n",
    "\n",
    "\n",
    "df = df.dropna(subset=[\"age\"])\n",
    "\n",
    "df.loc[:, \"field_cd\"] = df.loc[:, \"field_cd\"].fillna(19)\n",
    "df = df.drop([\"field\"], axis=1)\n",
    "\n",
    "one_hot(df, \"field_cd\")\n",
    "df = df.drop([\"field_cd\"], axis=1)\n",
    "\n",
    "df = df.drop([\"undergra\"], axis=1)\n",
    "df.loc[:, \"mn_sat\"] = df.loc[:, \"mn_sat\"].str.replace(\",\", \"\").astype(float)\n",
    "df.loc[:, \"mn_sat\"] = df.mn_sat.fillna(-999)\n",
    "\n",
    "df.loc[:, \"tuition\"] = df.loc[:, \"tuition\"].str.replace(\",\", \"\").astype(float)\n",
    "df.loc[:, \"tuition\"] = df.tuition.fillna(-999)\n",
    "\n",
    "one_hot(df, \"race\")\n",
    "\n",
    "df = df.dropna(subset=[\"imprelig\", \"imprace\"])\n",
    "df = df.drop([\"from\", \"zipcode\"], axis=1)\n",
    "\n",
    "df.loc[:, \"income\"] = df.loc[:, \"income\"].str.replace(\",\", \"\").astype(float)\n",
    "df = df.drop([\"income\"], axis=1)\n",
    "\n",
    "df = df.dropna(subset=[\"date\"])\n",
    "\n",
    "one_hot(df, \"goal\")\n",
    "\n",
    "df.loc[:, \"career_c\"] = df.loc[:, \"career_c\"].fillna(18)\n",
    "df = df.drop([\"career\"], axis=1)\n",
    "one_hot(df, \"career_c\")\n",
    "\n",
    "df = df.drop(\n",
    "    [\n",
    "        \"sports\",\n",
    "        \"tvsports\",\n",
    "        \"exercise\",\n",
    "        \"dining\",\n",
    "        \"museums\",\n",
    "        \"art\",\n",
    "        \"hiking\",\n",
    "        \"gaming\",\n",
    "        \"clubbing\",\n",
    "        \"reading\",\n",
    "        \"tv\",\n",
    "        \"theater\",\n",
    "        \"movies\",\n",
    "        \"concerts\",\n",
    "        \"music\",\n",
    "        \"shopping\",\n",
    "        \"yoga\",\n",
    "    ],\n",
    "    axis=1,\n",
    ")\n",
    "\n",
    "df = df.drop([\"expnum\"], axis=1)\n",
    "\n",
    "feat = [\"iid\", \"wave\", \"attr1_1\", \"sinc1_1\", \"intel1_1\", \"fun1_1\", \"amb1_1\", \"shar1_1\"]\n",
    "temp = df.drop_duplicates(subset=[\"iid\", \"wave\"]).loc[:, feat]\n",
    "temp.loc[:, \"totalsum\"] = temp.iloc[:, 2:].sum(axis=1)\n",
    "idx = ((temp.wave < 6) | (temp.wave > 9)) & (temp.totalsum < 99)\n",
    "temp.loc[\n",
    "    idx,\n",
    "]\n",
    "idx = (temp.wave >= 6) & (temp.wave <= 9)\n",
    "temp.loc[\n",
    "    idx,\n",
    "]\n",
    "\n",
    "df.loc[:, \"temp_totalsum\"] = df.loc[\n",
    "    :, [\"attr1_1\", \"sinc1_1\", \"intel1_1\", \"fun1_1\", \"amb1_1\", \"shar1_1\"]\n",
    "].sum(axis=1)\n",
    "\n",
    "df.loc[:, [\"attr1_1\", \"sinc1_1\", \"intel1_1\", \"fun1_1\", \"amb1_1\", \"shar1_1\"]] = (\n",
    "    df.loc[:, [\"attr1_1\", \"sinc1_1\", \"intel1_1\", \"fun1_1\", \"amb1_1\", \"shar1_1\"]].T\n",
    "    / df.loc[:, \"temp_totalsum\"].T\n",
    ").T * 100\n",
    "\n",
    "feat = [\"iid\", \"wave\", \"attr2_1\", \"sinc2_1\", \"intel2_1\", \"fun2_1\", \"amb2_1\", \"shar2_1\"]\n",
    "temp = df.drop_duplicates(subset=[\"iid\", \"wave\"]).loc[:, feat]\n",
    "temp.loc[:, \"totalsum\"] = temp.iloc[:, 2:].sum(axis=1)\n",
    "idx = ((temp.wave < 6) | (temp.wave > 9)) & (temp.totalsum < 90) & (temp.totalsum != 0)\n",
    "temp.loc[idx]\n",
    "idx = (temp.wave >= 6) & (temp.wave <= 9)\n",
    "temp.loc[idx]\n",
    "df.loc[:, \"temp_totalsum\"] = df.loc[\n",
    "    :, [\"attr2_1\", \"sinc2_1\", \"intel2_1\", \"fun2_1\", \"amb2_1\", \"shar2_1\"]\n",
    "].sum(axis=1)\n",
    "df.loc[:, [\"attr2_1\", \"sinc2_1\", \"intel2_1\", \"fun2_1\", \"amb2_1\", \"shar2_1\"]] = (\n",
    "    df.loc[:, [\"attr2_1\", \"sinc2_1\", \"intel2_1\", \"fun2_1\", \"amb2_1\", \"shar2_1\"]].T\n",
    "    / df.loc[:, \"temp_totalsum\"].T\n",
    ").T * 100\n",
    "\n",
    "df = df.drop([\"temp_totalsum\"], axis=1)\n",
    "\n",
    "for i in [4, 5]:\n",
    "    feat = [\n",
    "        \"attr{}_1\".format(i),\n",
    "        \"sinc{}_1\".format(i),\n",
    "        \"intel{}_1\".format(i),\n",
    "        \"fun{}_1\".format(i),\n",
    "        \"amb{}_1\".format(i),\n",
    "        \"shar{}_1\".format(i),\n",
    "    ]\n",
    "\n",
    "    if i != 4:\n",
    "        feat.remove(\"shar{}_1\".format(i))\n",
    "\n",
    "    df = df.drop(feat, axis=1)\n",
    "\n",
    "df = df.drop([\"wave\"], axis=1)\n",
    "\n",
    "df_male = (\n",
    "    df.query(\"gender == 1\")\n",
    "    .drop_duplicates(subset=[\"iid\", \"pid\"])\n",
    "    .drop([\"gender\"], axis=1)\n",
    "    .dropna()\n",
    ")\n",
    "df_female = (\n",
    "    df.query(\"gender == 0\")\n",
    "    .drop_duplicates(subset=[\"iid\"])\n",
    "    .drop([\"gender\", \"match\", \"int_corr\", \"samerace\"], axis=1)\n",
    "    .dropna()\n",
    ")\n",
    "\n",
    "df_female.columns = df_female.columns + \"_f\"\n",
    "\n",
    "df_pair = df_male.join(df_female.set_index(\"iid_f\"), on=\"pid\", how=\"inner\")\n",
    "df_pair = df_pair.drop([\"iid\", \"pid\"], axis=1)\n",
    "print(\"df_pair.shape =\", df_pair.shape)\n"
   ]
  },
  {
   "cell_type": "code",
   "execution_count": 23,
   "metadata": {
    "collapsed": true,
    "jupyter": {
     "outputs_hidden": true
    }
   },
   "outputs": [],
   "source": [
    "data = df_pair.iloc[:, 1:].values\n",
    "target = df_pair.iloc[:, 0].values\n"
   ]
  },
  {
   "cell_type": "markdown",
   "metadata": {},
   "source": [
    "Разбейте датасет на трейн и валидацию. Подберите на валидации оптимальный критерий информативности.\n",
    "Постройте графики зависимости точности на валидации от глубины дерева, от минимального числа объектов для сплита.\n",
    "Какой максимальной точности удалось достигнуть?\n"
   ]
  },
  {
   "cell_type": "code",
   "execution_count": 24,
   "metadata": {
    "collapsed": true,
    "jupyter": {
     "outputs_hidden": true
    }
   },
   "outputs": [],
   "source": [
    "X_train, X_test, y_train, y_test = train_test_split(data, target, test_size=0.1)\n"
   ]
  },
  {
   "cell_type": "code",
   "execution_count": 28,
   "metadata": {
    "collapsed": true,
    "jupyter": {
     "outputs_hidden": true
    }
   },
   "outputs": [],
   "source": [
    "params = {\n",
    "    \"criterion\": [\"entropy\", \"misclass\", \"gini\"],\n",
    "    \"max_depth\": [2, 3, 4, 6, 12, 18, 24, 36, 48],\n",
    "    \"min_samples_split\": [2, 4, 6, 8, 10, 20, 40],\n",
    "}\n",
    "\n",
    "\n",
    "n_splits = 3\n",
    "kf = StratifiedKFold(n_splits=n_splits)\n",
    "\n",
    "res = []\n",
    "\n",
    "for criterion in params[\"criterion\"]:\n",
    "    for max_depth in params[\"max_depth\"]:\n",
    "        for min_samples_split in params[\"min_samples_split\"]:\n",
    "            sum_score = 0\n",
    "            for train_index, val_index in kf.split(X_train, y_train):\n",
    "                X, X_val = X_train[train_index], X_train[val_index]\n",
    "                y, y_val = y_train[train_index], y_train[val_index]\n",
    "\n",
    "                tree = MyDecisionTreeClassifier(\n",
    "                    max_depth=max_depth,\n",
    "                    min_samples_split=min_samples_split,\n",
    "                    criterion=criterion,\n",
    "                )\n",
    "                tree.fit(X, y)\n",
    "\n",
    "                sum_score += accuracy_score(y_pred=tree.predict(X_val), y_true=y_val)\n",
    "            avg_score = sum_score / n_splits\n",
    "\n",
    "            res.append(\n",
    "                {\n",
    "                    \"score\": avg_score,\n",
    "                    \"criterion\": criterion,\n",
    "                    \"max_depth\": max_depth,\n",
    "                    \"min_samples_split\": min_samples_split,\n",
    "                }\n",
    "            )\n"
   ]
  },
  {
   "cell_type": "code",
   "execution_count": 32,
   "metadata": {},
   "outputs": [
    {
     "data": {
      "text/plain": [
       "{'score': 0.8332874617737004,\n",
       " 'criterion': 'gini',\n",
       " 'max_depth': 3,\n",
       " 'min_samples_split': 40}"
      ]
     },
     "execution_count": 32,
     "metadata": {},
     "output_type": "execute_result"
    }
   ],
   "source": [
    "res[np.argmax([exp[\"score\"] for exp in res])]\n"
   ]
  },
  {
   "cell_type": "code",
   "execution_count": 33,
   "metadata": {},
   "outputs": [
    {
     "data": {
      "text/plain": [
       "[<matplotlib.lines.Line2D at 0x23c507d44f0>]"
      ]
     },
     "execution_count": 33,
     "metadata": {},
     "output_type": "execute_result"
    },
    {
     "data": {
      "image/png": "[encoded data removed]",
      "text/plain": [
       "<Figure size 432x288 with 1 Axes>"
      ]
     },
     "metadata": {
      "needs_background": "light"
     },
     "output_type": "display_data"
    }
   ],
   "source": [
    "result = list(\n",
    "    filter(lambda exp: exp[\"max_depth\"] == 3 and exp[\"criterion\"] == \"gini\", res)\n",
    ")\n",
    "\n",
    "res_score = [exp[\"score\"] for exp in result]\n",
    "res_min_samples_split = [exp[\"min_samples_split\"] for exp in result]\n",
    "\n",
    "plt.plot(res_min_samples_split, res_score)\n"
   ]
  },
  {
   "cell_type": "code",
   "execution_count": 34,
   "metadata": {},
   "outputs": [
    {
     "data": {
      "text/plain": [
       "[<matplotlib.lines.Line2D at 0x23c5083a070>]"
      ]
     },
     "execution_count": 34,
     "metadata": {},
     "output_type": "execute_result"
    },
    {
     "data": {
      "image/png": "[encoded data removed]",
      "text/plain": [
       "<Figure size 432x288 with 1 Axes>"
      ]
     },
     "metadata": {
      "needs_background": "light"
     },
     "output_type": "display_data"
    }
   ],
   "source": [
    "result = list(\n",
    "    filter(\n",
    "        lambda exp: exp[\"min_samples_split\"] == 40 and exp[\"criterion\"] == \"gini\", res\n",
    "    )\n",
    ")\n",
    "\n",
    "res_score = [exp[\"score\"] for exp in result]\n",
    "res_max_depth = [exp[\"max_depth\"] for exp in result]\n",
    "\n",
    "plt.plot(res_max_depth, res_score)\n"
   ]
  },
  {
   "cell_type": "code",
   "execution_count": 35,
   "metadata": {
    "collapsed": true,
    "jupyter": {
     "outputs_hidden": true
    }
   },
   "outputs": [
    {
     "name": "stdout",
     "output_type": "stream",
     "text": [
      "0.865\n"
     ]
    }
   ],
   "source": [
    "best_params = res[np.argmax([exp[\"score\"] for exp in res])]\n",
    "\n",
    "tree = MyDecisionTreeClassifier(\n",
    "    max_depth=best_params[\"max_depth\"],\n",
    "    min_samples_split=best_params[\"min_samples_split\"],\n",
    ")\n",
    "tree.fit(X_train, y_train)\n",
    "\n",
    "print(accuracy_score(y_pred=tree.predict(X_test), y_true=y_test))\n"
   ]
  },
  {
   "cell_type": "markdown",
   "metadata": {},
   "source": [
    "## Находим самые важные признаки (2 балла)\n"
   ]
  },
  {
   "cell_type": "markdown",
   "metadata": {},
   "source": [
    "По построенному дереву легко понять, какие признаки лучше всего помогли решить задачу. Часто это бывает нужно не только для сокращения размерности в данных, но и для лучшего понимания прикладной задачи. Например, Вы хотите понять, какие признаки стоит еще конструировать -- для этого нужно понимать, какие из текущих лучше всего работают в дереве.\n"
   ]
  },
  {
   "cell_type": "markdown",
   "metadata": {},
   "source": [
    "Самый простой метод -- посчитать число сплитов, где использовался данные признак. Это не лучший вариант, так как по признаку который принимает всего 2 значения, но который почти точно разделяет выборку, число сплитов будет очень 1, но при этом признак сам очень хороший.\n",
    "В этом задании предлагается для каждого признака считать суммарный gain (в лекции обозначено как Q) при использовании этого признака в сплите. Тогда даже у очень хороших признаков с маленьким число сплитов это значение должно быть довольно высоким.\n"
   ]
  },
  {
   "cell_type": "markdown",
   "metadata": {},
   "source": [
    "Реализовать это довольно просто: создаете словарь номер фичи : суммарный гейн и добавляете в нужную фичу каждый раз, когда используете ее при построении дерева.\n"
   ]
  },
  {
   "cell_type": "markdown",
   "metadata": {},
   "source": [
    "Добавьте функционал, который определяет значения feature importance. Обучите дерево на датасете Speed Dating Data.\n",
    "Выведите 10 главных фичей по важности.\n"
   ]
  },
  {
   "cell_type": "code",
   "execution_count": 36,
   "metadata": {
    "collapsed": true,
    "jupyter": {
     "outputs_hidden": true
    }
   },
   "outputs": [
    {
     "name": "stdout",
     "output_type": "stream",
     "text": [
      "['pid_f', 'field_cd=4.0', 'sinc1_1', 'date', 'race=4.0', 'race=1.0', 'goal=2.0', 'goal=1.0', 'race=6.0', 'race=3.0']\n"
     ]
    }
   ],
   "source": [
    "print(list(df_pair.columns[1:][np.flip(np.argsort(tree.feature_importances_))])[:10])\n"
   ]
  },
  {
   "cell_type": "markdown",
   "metadata": {},
   "source": [
    "## Фидбек (бесценно)\n"
   ]
  },
  {
   "cell_type": "markdown",
   "metadata": {},
   "source": [
    "-   Какие аспекты обучения деревьев решений Вам показались непонятными? Какое место стоит дополнительно объяснить?\n"
   ]
  },
  {
   "cell_type": "markdown",
   "metadata": {},
   "source": [
    "### Ваш ответ здесь\n"
   ]
  },
  {
   "cell_type": "markdown",
   "metadata": {},
   "source": [
    "-   Здесь Вы можете оставить отзыв о этой домашней работе или о всем курсе.\n"
   ]
  },
  {
   "cell_type": "markdown",
   "metadata": {},
   "source": [
    "### ВАШ ОТЗЫВ ЗДЕСЬ\n"
   ]
  },
  {
   "cell_type": "code",
   "execution_count": null,
   "metadata": {
    "collapsed": true,
    "jupyter": {
     "outputs_hidden": true
    }
   },
   "outputs": [],
   "source": []
  },
  {
   "cell_type": "code",
   "execution_count": null,
   "metadata": {
    "collapsed": true,
    "jupyter": {
     "outputs_hidden": true
    }
   },
   "outputs": [],
   "source": []
  }
 ],
 "metadata": {
  "anaconda-cloud": {},
  "interpreter": {
   "hash": "57fdf6ced3497be6751aff0d610660c5baf34a48c3eaed9bf5963df6523fe9d6"
  },
  "kernelspec": {
   "display_name": "Python 3.9.12 ('torch')",
   "language": "python",
   "name": "python3"
  },
  "language_info": {
   "codemirror_mode": {
    "name": "ipython",
    "version": 3
   },
   "file_extension": ".py",
   "mimetype": "text/x-python",
   "name": "python",
   "nbconvert_exporter": "python",
   "pygments_lexer": "ipython3",
   "version": "3.9.12"
  },
  "widgets": {
   "application/vnd.jupyter.widget-state+json": {
    "state": {},
    "version_major": 2,
    "version_minor": 0
   }
  }
 },
 "nbformat": 4,
 "nbformat_minor": 4
}
